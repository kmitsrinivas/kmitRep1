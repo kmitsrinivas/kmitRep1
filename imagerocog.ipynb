{
  "nbformat": 4,
  "nbformat_minor": 0,
  "metadata": {
    "colab": {
      "name": "Untitled1.ipynb",
      "provenance": [],
      "collapsed_sections": [],
      "authorship_tag": "ABX9TyNKsrK5ZFr+XnFGOKsd/lU1",
      "include_colab_link": true
    },
    "kernelspec": {
      "name": "python3",
      "display_name": "Python 3"
    }
  },
  "cells": [
    {
      "cell_type": "markdown",
      "metadata": {
        "id": "view-in-github",
        "colab_type": "text"
      },
      "source": [
        "<a href=\"https://colab.research.google.com/github/kmitsrinivas/kmitRep1/blob/master/imagerocog.ipynb\" target=\"_parent\"><img src=\"https://colab.research.google.com/assets/colab-badge.svg\" alt=\"Open In Colab\"/></a>"
      ]
    },
    {
      "cell_type": "code",
      "metadata": {
        "id": "tMrzm1SoK7X3",
        "colab_type": "code",
        "colab": {}
      },
      "source": [
        "import opencv2\n",
        "x=cv2.imread(\"D:\\DeepLearningExperiments\\avatars\\SRINIVASM.JPG\",0)\n",
        "print(x)\n",
        "cv2.imshow(\"SRINIVASM\",x)\n"
      ],
      "execution_count": null,
      "outputs": []
    },
    {
      "cell_type": "code",
      "metadata": {
        "id": "eEl4_hRwME7m",
        "colab_type": "code",
        "colab": {}
      },
      "source": [
        "import cv2\n",
        "x=cv2.VidedoCapture(0)\n",
        "while True:\n",
        "  ret,frame=x.read()\n",
        "  cv2.imshow(\"liveviedo\")\n",
        "  if cv.waitKey(1)==ord('q'):#cv2.imwrite(\"image.jpg\",frame)-to get imagee\n",
        "    break\n",
        "    x.release()\n",
        "    cv2.destroyAllWindows()"
      ],
      "execution_count": null,
      "outputs": []
    },
    {
      "cell_type": "code",
      "metadata": {
        "id": "ef9DiDHHN4wE",
        "colab_type": "code",
        "colab": {}
      },
      "source": [
        "#image to text transimission\n",
        "import pytesseract\n",
        "from gtts"
      ],
      "execution_count": null,
      "outputs": []
    },
    {
      "cell_type": "code",
      "metadata": {
        "id": "33QMDX--Kqjx",
        "colab_type": "code",
        "colab": {}
      },
      "source": [
        ""
      ],
      "execution_count": null,
      "outputs": []
    }
  ]
}